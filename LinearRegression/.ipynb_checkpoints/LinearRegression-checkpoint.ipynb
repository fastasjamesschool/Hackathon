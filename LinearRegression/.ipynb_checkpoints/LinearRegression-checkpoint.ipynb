{
 "cells": [
  {
   "cell_type": "code",
   "execution_count": 1,
   "id": "3ad8e733",
   "metadata": {},
   "outputs": [],
   "source": [
    "import pandas as pd\n",
    "import pickle\n",
    "import numpy as np\n",
    "import seaborn as sns\n",
    "from sklearn.tree import DecisionTreeClassifier\n",
    "from sklearn.model_selection import train_test_split\n",
    "from sklearn.metrics import accuracy_score\n",
    "from sklearn.linear_model import LinearRegression\n",
    "import pyarrow as pa\n",
    "import pyarrow.parquet as pq\n",
    "from pymongo import MongoClient\n",
    "def get_database():\n",
    " \n",
    "   # Provide the mongodb atlas url to connect python to mongodb using pymongo\n",
    "   CONNECTION_STRING = \"mongodb://localhost:27017\"\n",
    " \n",
    "   # Create a connection using MongoClient. You can import MongoClient or use pymongo.MongoClient\n",
    "   client = MongoClient(CONNECTION_STRING)\n",
    " \n",
    "   # Create the database for our example (we will use the same database throughout the tutorial\n",
    "   return client['CRUDLLC']\n",
    "  \n",
    "# This is added so that many files can reuse the function get_database()\n",
    "if __name__ == \"__main__\":   \n",
    "  \n",
    "   # Get the database\n",
    "   dbname = get_database()\n",
    "\n",
    "collection_projects = dbname[\"Projects\"]"
   ]
  },
  {
   "cell_type": "code",
   "execution_count": 2,
   "id": "36bfc98d",
   "metadata": {},
   "outputs": [],
   "source": [
    "dataStorage = []\n",
    "for data in collection_projects.find({},{\"_id\": 0}):\n",
    "    dataStorage.append(data)\n",
    "\n",
    "df = pd.DataFrame(dataStorage)\n"
   ]
  },
  {
   "cell_type": "code",
   "execution_count": 3,
   "id": "73e4ff2d",
   "metadata": {},
   "outputs": [
    {
     "name": "stdout",
     "output_type": "stream",
     "text": [
      "0      3\n",
      "1      1\n",
      "2      2\n",
      "3      1\n",
      "4      1\n",
      "      ..\n",
      "995    2\n",
      "996    3\n",
      "997    1\n",
      "998    3\n",
      "999    3\n",
      "Name: TeamSize, Length: 1000, dtype: int64\n"
     ]
    }
   ],
   "source": [
    "df['TeamSize'] = df['AssignedUsers'].str.len()\n",
    "print(df['TeamSize'])"
   ]
  },
  {
   "cell_type": "code",
   "execution_count": 4,
   "id": "6d6ef08f",
   "metadata": {},
   "outputs": [
    {
     "name": "stdout",
     "output_type": "stream",
     "text": [
      "predicted response:\n",
      "[63.82129568 62.83195118 61.24010426 61.94572495 59.99219465 65.83314964\n",
      " 64.28353796 61.48303473 64.43236254 62.08455711 58.91406479 62.81625261\n",
      " 62.54515262 65.21385997 64.11945087 64.99473289 59.37970853 60.12283728\n",
      " 64.49891728 61.72061743 59.60725141 64.61772306 64.61799311 61.99761719\n",
      " 61.4011487  61.04970882 59.69144295 62.04254839 62.68818553 59.53858704\n",
      " 65.00584932 65.51064852 61.78760399 60.40361485 62.83225693 59.63645843\n",
      " 62.8731955  63.99922521 60.77623597 58.72934403 60.21982387 63.62680175\n",
      " 59.63476264 61.69992449 62.72912248 64.594056   61.11046019 61.77532424\n",
      " 59.45328543 65.09699908 61.71590903 60.16509006 64.9520229  63.42462773\n",
      " 61.68633798 62.80754815 60.44571718 65.4337948  64.70183914 60.53697099\n",
      " 59.97394615 62.07476982 61.30674613 59.78018091 62.42089906 63.37678094\n",
      " 60.55728398 65.92535885 62.70865158 60.76717576 62.56191892 65.39082745\n",
      " 58.69751325 59.67122456 62.72851097 59.74323958 63.4526476  60.81694262\n",
      " 62.12967143 61.2932153  63.39238068 61.71998272 61.79129386 61.77070659\n",
      " 61.45909277 62.49327307 60.6292401  61.092584   62.09132011 63.15016864\n",
      " 63.73706341 59.70322755 60.04505379 61.20586394 61.36040636 59.45845488\n",
      " 61.71745599 62.22633471 59.19895416 62.26393638 59.38893836 65.20318059\n",
      " 64.72675099 63.76472348 58.5961333  63.83688454 63.99727125 60.69012923\n",
      " 65.44235079 61.97520121 59.12541638 63.13504004 63.25788037 60.18714542\n",
      " 63.06027581 65.80803024 61.80632444 63.76421564 62.53122205 61.98562807\n",
      " 60.09851132 61.36994922 60.87726539 61.4295897  62.72205193 64.53941375\n",
      " 62.96465183 61.8911059  61.86868185 62.43930043 62.80604517 57.89534888\n",
      " 62.74657835 60.69282439 61.08800429 64.51582575 64.2785587  62.27662333\n",
      " 63.15018861 59.99093088 64.63809774 61.5446112  61.81997345 60.24699948\n",
      " 61.16503247 63.70497751 61.11427613 63.28399007 61.93062621 64.63274213\n",
      " 60.06547811 60.53826965 62.46242333 61.40044924 64.57062312 57.9429722\n",
      " 60.24645775 59.14553818 62.09150284 62.18406763 63.99174684 62.54821424\n",
      " 63.53416717 65.38512957 61.79229665 64.80402342 62.95109779 60.1254203\n",
      " 65.04781873 61.23767493 63.36510686 59.04273753 62.45227218 62.44868799\n",
      " 61.61554941 59.76680781 62.15303614 59.21600544 60.2732679  63.23853106\n",
      " 59.27703595 58.35596939 61.78413698 63.60895218 60.79089443 61.06785911\n",
      " 63.176693   64.59809641 58.94614664 60.38026668 64.67333159 61.59224037\n",
      " 65.79743215 60.09012152 61.6462336  60.52026801 65.15968805 63.04290403\n",
      " 60.33785437 64.38638843]\n"
     ]
    }
   ],
   "source": [
    "#df_dummies = pd.get_dummies(data=df['AssignedUsers'].str.join(sep='*').str.get_dummies(sep='*'))\n",
    "#print(\"test\")\n",
    "X = df[['Budget','Workload','TeamSize']]\n",
    "y = df['CompletionTime']\n",
    "\n",
    "X_train, X_test, y_train, y_test = train_test_split(X,y, test_size=0.2, random_state=42)\n",
    "model = LinearRegression()\n",
    "model.fit(X_train, y_train)\n",
    "y_pred = model.predict(X_test)\n",
    "print(f\"predicted response:\\n{y_pred}\")"
   ]
  },
  {
   "cell_type": "code",
   "execution_count": 10,
   "id": "89af7e82",
   "metadata": {},
   "outputs": [
    {
     "name": "stdout",
     "output_type": "stream",
     "text": [
      "[64.47579115 63.34917555 62.18799409]\n"
     ]
    }
   ],
   "source": [
    "filename = \"model.pkl\"\n",
    "with open(filename, 'wb') as file:\n",
    "    pickle.dump(model, file)\n",
    "\n",
    "with open(filename, 'rb') as file:\n",
    "    model2 = pickle.load(file)\n",
    "    \n",
    "test_data = [15000,45,3],[19000,75,2],[45000,98,3]\n",
    "df = pd.DataFrame(test_data, columns=['Budget','Workload','TeamSize'])\n",
    "predictions = model2.predict(df)\n",
    "print(predictions)"
   ]
  },
  {
   "cell_type": "code",
   "execution_count": null,
   "id": "e699d44e",
   "metadata": {},
   "outputs": [],
   "source": []
  },
  {
   "cell_type": "code",
   "execution_count": null,
   "id": "32e1f973",
   "metadata": {},
   "outputs": [],
   "source": []
  }
 ],
 "metadata": {
  "kernelspec": {
   "display_name": "Python 3 (ipykernel)",
   "language": "python",
   "name": "python3"
  },
  "language_info": {
   "codemirror_mode": {
    "name": "ipython",
    "version": 3
   },
   "file_extension": ".py",
   "mimetype": "text/x-python",
   "name": "python",
   "nbconvert_exporter": "python",
   "pygments_lexer": "ipython3",
   "version": "3.10.9"
  }
 },
 "nbformat": 4,
 "nbformat_minor": 5
}
